{
 "cells": [
  {
   "cell_type": "markdown",
   "metadata": {},
   "source": [
    "# Multi-linear regression\n",
    "\n",
    "***\n",
    "\n",
    "Let's try multi-linear regression using sklearn.\n",
    "[https://scikit-learn.org/stable/](https://scikit-learn.org/stable/)"
   ]
  },
  {
   "cell_type": "markdown",
   "metadata": {},
   "source": [
    "$ petalwidth = t (sepallength) + u (sepalwidth) + v (petallength) + c $"
   ]
  },
  {
   "cell_type": "markdown",
   "metadata": {},
   "source": [
    "## Using sklearn"
   ]
  },
  {
   "cell_type": "code",
   "execution_count": 37,
   "metadata": {},
   "outputs": [
    {
     "name": "stdout",
     "output_type": "stream",
     "text": [
      "   intercept:  -0.248723586024455\n",
      "coefficients:  [-0.21027133  0.22877721  0.52608818]\n",
      "       score:  0.9380481344518986\n"
     ]
    }
   ],
   "source": [
    "# Import linear_model from sklearn.\n",
    "import sklearn.linear_model as lm\n",
    "\n",
    "# Create a linear regression model instance.\n",
    "model = lm.LinearRegression()\n",
    "\n",
    "# Let's use pandas to read a csv file and organise our data.\n",
    "import pandas as pd\n",
    "\n",
    "# Read the iris csv from online.\n",
    "df = pd.read_csv('https://datahub.io/machine-learning/iris/r/iris.csv')\n",
    "\n",
    "# Let's pretend we want to do linear regression on these variables to predict petal width.\n",
    "x = df[['sepallength', 'sepalwidth', 'petallength']]\n",
    "\n",
    "# Here's petal width.\n",
    "y = df['petalwidth']\n",
    "\n",
    "# Ask our model to fit the data.\n",
    "model.fit(x, y)\n",
    "\n",
    "# Here's our intercept.\n",
    "print('   intercept: ',model.intercept_)\n",
    "\n",
    "# Here's our coefficients, in order.\n",
    "print('coefficients: ',model.coef_)\n",
    "\n",
    "# See how good our fit is.\n",
    "print('       score: ',model.score(x, y))"
   ]
  },
  {
   "cell_type": "code",
   "execution_count": 38,
   "metadata": {},
   "outputs": [
    {
     "data": {
      "text/plain": [
       "0.9380481344518986"
      ]
     },
     "execution_count": 38,
     "metadata": {},
     "output_type": "execute_result"
    }
   ],
   "source": [
    "# Calculating the score by hand.\n",
    "t, u, v = model.coef_\n",
    "c = model.intercept_\n",
    "\n",
    "y_avg = y.mean()\n",
    "\n",
    "u = ((y - (t * x['sepallength'] + u * x['sepalwidth'] + v * x['petallength'] + c))**2).sum()\n",
    "v = ((y - y.mean())**2).sum()\n",
    "\n",
    "1 - (u/v)"
   ]
  },
  {
   "cell_type": "markdown",
   "metadata": {},
   "source": [
    "***\n",
    "\n",
    "## Using statsmodels"
   ]
  },
  {
   "cell_type": "code",
   "execution_count": 39,
   "metadata": {},
   "outputs": [
    {
     "name": "stdout",
     "output_type": "stream",
     "text": [
      "                            OLS Regression Results                            \n",
      "==============================================================================\n",
      "Dep. Variable:             petalwidth   R-squared:                       0.938\n",
      "Model:                            OLS   Adj. R-squared:                  0.937\n",
      "Method:                 Least Squares   F-statistic:                     736.9\n",
      "Date:                Sun, 06 Oct 2019   Prob (F-statistic):           6.20e-88\n",
      "Time:                        17:25:10   Log-Likelihood:                 36.809\n",
      "No. Observations:                 150   AIC:                            -65.62\n",
      "Df Residuals:                     146   BIC:                            -53.57\n",
      "Df Model:                           3                                         \n",
      "Covariance Type:            nonrobust                                         \n",
      "===============================================================================\n",
      "                  coef    std err          t      P>|t|      [0.025      0.975]\n",
      "-------------------------------------------------------------------------------\n",
      "const          -0.2487      0.178     -1.396      0.165      -0.601       0.103\n",
      "sepallength    -0.2103      0.048     -4.426      0.000      -0.304      -0.116\n",
      "sepalwidth      0.2288      0.049      4.669      0.000       0.132       0.326\n",
      "petallength     0.5261      0.024     21.536      0.000       0.478       0.574\n",
      "==============================================================================\n",
      "Omnibus:                        5.603   Durbin-Watson:                   1.577\n",
      "Prob(Omnibus):                  0.061   Jarque-Bera (JB):                6.817\n",
      "Skew:                           0.222   Prob(JB):                       0.0331\n",
      "Kurtosis:                       3.945   Cond. No.                         90.0\n",
      "==============================================================================\n",
      "\n",
      "Warnings:\n",
      "[1] Standard Errors assume that the covariance matrix of the errors is correctly specified.\n"
     ]
    },
    {
     "name": "stderr",
     "output_type": "stream",
     "text": [
      "C:\\ProgramData\\Anaconda3\\lib\\site-packages\\numpy\\core\\fromnumeric.py:2389: FutureWarning: Method .ptp is deprecated and will be removed in a future version. Use numpy.ptp instead.\n",
      "  return ptp(axis=axis, out=out, **kwargs)\n"
     ]
    }
   ],
   "source": [
    "# Using statsmodels.\n",
    "import statsmodels.api as sm\n",
    "\n",
    "# Tell statmodels to include an intercept.\n",
    "xwithc = sm.add_constant(x)\n",
    "\n",
    "# Create a model.\n",
    "msm = sm.OLS(y, xwithc)\n",
    "# Fit the data.\n",
    "rsm = msm.fit()\n",
    "# Print a summary.\n",
    "print(rsm.summary())"
   ]
  },
  {
   "cell_type": "markdown",
   "metadata": {},
   "source": [
    "## End"
   ]
  }
 ],
 "metadata": {
  "kernelspec": {
   "display_name": "Python 3",
   "language": "python",
   "name": "python3"
  },
  "language_info": {
   "codemirror_mode": {
    "name": "ipython",
    "version": 3
   },
   "file_extension": ".py",
   "mimetype": "text/x-python",
   "name": "python",
   "nbconvert_exporter": "python",
   "pygments_lexer": "ipython3",
   "version": "3.7.3"
  }
 },
 "nbformat": 4,
 "nbformat_minor": 2
}
