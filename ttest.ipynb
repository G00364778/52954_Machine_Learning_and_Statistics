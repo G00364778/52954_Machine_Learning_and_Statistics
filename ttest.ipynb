{
 "cells": [
  {
   "cell_type": "markdown",
   "metadata": {},
   "source": [
    "# Independent T-Test using Python"
   ]
  },
  {
   "cell_type": "code",
   "execution_count": 1,
   "metadata": {},
   "outputs": [],
   "source": [
    "import scipy.stats as ss"
   ]
  },
  {
   "cell_type": "code",
   "execution_count": 2,
   "metadata": {},
   "outputs": [
    {
     "data": {
      "text/plain": [
       "<function scipy.stats.stats.ttest_ind(a, b, axis=0, equal_var=True, nan_policy='propagate')>"
      ]
     },
     "execution_count": 2,
     "metadata": {},
     "output_type": "execute_result"
    }
   ],
   "source": [
    "ss.ttest_ind"
   ]
  },
  {
   "cell_type": "code",
   "execution_count": 3,
   "metadata": {},
   "outputs": [],
   "source": [
    "import numpy as np"
   ]
  },
  {
   "cell_type": "code",
   "execution_count": 4,
   "metadata": {},
   "outputs": [],
   "source": [
    "m = np.random.normal(1.7, 0.1, 30) # create a distribution for males"
   ]
  },
  {
   "cell_type": "code",
   "execution_count": 5,
   "metadata": {},
   "outputs": [],
   "source": [
    "i = np.random.normal(1.7, 0.1, 30) # create a second distribution for males for comparison"
   ]
  },
  {
   "cell_type": "code",
   "execution_count": 6,
   "metadata": {},
   "outputs": [],
   "source": [
    "f = np.random.normal(1.6, 0.1, 30) # and one for females"
   ]
  },
  {
   "cell_type": "code",
   "execution_count": 7,
   "metadata": {},
   "outputs": [
    {
     "data": {
      "text/plain": [
       "array([1.65608233, 1.53733214, 1.70894662, 1.63391829, 1.79362808,\n",
       "       1.80130406, 1.68387788, 1.78518434, 1.7137346 , 1.73436257,\n",
       "       1.57993658, 1.79873049, 1.85459491, 1.62009294, 1.57099436,\n",
       "       1.70454494, 1.58636796, 1.76735163, 1.57995404, 1.79756806,\n",
       "       1.78004978, 1.87028346, 1.55481802, 1.52903448, 1.73452971,\n",
       "       1.79966479, 1.7315535 , 1.65528311, 1.69771424, 1.66517462])"
      ]
     },
     "execution_count": 7,
     "metadata": {},
     "output_type": "execute_result"
    }
   ],
   "source": [
    "m "
   ]
  },
  {
   "cell_type": "code",
   "execution_count": 8,
   "metadata": {},
   "outputs": [
    {
     "data": {
      "text/plain": [
       "array([1.51043915, 1.47669289, 1.6932561 , 1.43280066, 1.61460339,\n",
       "       1.81777216, 1.68714345, 1.54090906, 1.59801562, 1.68750582,\n",
       "       1.58823061, 1.81329238, 1.50000238, 1.59306356, 1.65096888,\n",
       "       1.51298434, 1.38841657, 1.52372802, 1.64747762, 1.50317819,\n",
       "       1.66220508, 1.76229033, 1.4329828 , 1.7723186 , 1.66407174,\n",
       "       1.57042659, 1.64804087, 1.55661205, 1.71034986, 1.59118956])"
      ]
     },
     "execution_count": 8,
     "metadata": {},
     "output_type": "execute_result"
    }
   ],
   "source": [
    "f"
   ]
  },
  {
   "cell_type": "code",
   "execution_count": 9,
   "metadata": {},
   "outputs": [
    {
     "data": {
      "text/plain": [
       "array([1.7909649 , 1.53540857, 1.60156219, 1.79307352, 1.81230742,\n",
       "       1.71791994, 1.6865362 , 1.73692561, 1.7631472 , 1.66366704,\n",
       "       1.67118224, 1.78938662, 1.48725615, 1.5188362 , 1.61369048,\n",
       "       1.4665699 , 1.69378468, 1.61759276, 1.817376  , 1.76087075,\n",
       "       1.6173938 , 1.65284768, 1.7989501 , 1.77414378, 1.72655364,\n",
       "       1.73790678, 1.72574204, 1.67446458, 1.81852192, 1.77273642])"
      ]
     },
     "execution_count": 9,
     "metadata": {},
     "output_type": "execute_result"
    }
   ],
   "source": [
    "i"
   ]
  },
  {
   "cell_type": "code",
   "execution_count": 10,
   "metadata": {},
   "outputs": [
    {
     "data": {
      "text/plain": [
       "Ttest_indResult(statistic=3.4195352674685178, pvalue=0.001154202030644732)"
      ]
     },
     "execution_count": 10,
     "metadata": {},
     "output_type": "execute_result"
    }
   ],
   "source": [
    "ss.ttest_ind(m, f)"
   ]
  },
  {
   "cell_type": "code",
   "execution_count": 11,
   "metadata": {},
   "outputs": [
    {
     "data": {
      "text/plain": [
       "Ttest_indResult(statistic=0.11658982658666799, pvalue=0.9075878717154473)"
      ]
     },
     "execution_count": 11,
     "metadata": {},
     "output_type": "execute_result"
    }
   ],
   "source": [
    "ss.ttest_ind(m, i)"
   ]
  },
  {
   "cell_type": "code",
   "execution_count": 12,
   "metadata": {},
   "outputs": [],
   "source": [
    "import statsmodels.stats.weightstats as ws"
   ]
  },
  {
   "cell_type": "code",
   "execution_count": 13,
   "metadata": {},
   "outputs": [
    {
     "data": {
      "text/plain": [
       "(3.4195352674685187, 0.0011542020306447302, 58.0)"
      ]
     },
     "execution_count": 13,
     "metadata": {},
     "output_type": "execute_result"
    }
   ],
   "source": [
    "ws.ttest_ind(m, f)"
   ]
  },
  {
   "cell_type": "code",
   "execution_count": 14,
   "metadata": {},
   "outputs": [],
   "source": [
    "import seaborn as sns"
   ]
  },
  {
   "cell_type": "code",
   "execution_count": 15,
   "metadata": {},
   "outputs": [
    {
     "data": {
      "text/plain": [
       "<matplotlib.axes._subplots.AxesSubplot at 0x2cd36f5f908>"
      ]
     },
     "execution_count": 15,
     "metadata": {},
     "output_type": "execute_result"
    },
    {
     "data": {
      "image/png": "[encoded data removed]",
      "text/plain": [
       "<Figure size 432x288 with 1 Axes>"
      ]
     },
     "metadata": {
      "needs_background": "light"
     },
     "output_type": "display_data"
    }
   ],
   "source": [
    "sns.distplot(m)"
   ]
  },
  {
   "cell_type": "code",
   "execution_count": 16,
   "metadata": {},
   "outputs": [
    {
     "data": {
      "text/plain": [
       "<matplotlib.axes._subplots.AxesSubplot at 0x2cd3826ca58>"
      ]
     },
     "execution_count": 16,
     "metadata": {},
     "output_type": "execute_result"
    },
    {
     "data": {
      "image/png": "[encoded data removed]",
      "text/plain": [
       "<Figure size 432x288 with 1 Axes>"
      ]
     },
     "metadata": {
      "needs_background": "light"
     },
     "output_type": "display_data"
    }
   ],
   "source": [
    "sns.distplot(f)"
   ]
  },
  {
   "cell_type": "code",
   "execution_count": 17,
   "metadata": {},
   "outputs": [],
   "source": [
    "import pandas as pd"
   ]
  },
  {
   "cell_type": "code",
   "execution_count": 18,
   "metadata": {},
   "outputs": [],
   "source": [
    "df = pd.DataFrame({'male': m, 'female': f})"
   ]
  },
  {
   "cell_type": "code",
   "execution_count": 19,
   "metadata": {
    "scrolled": true
   },
   "outputs": [
    {
     "data": {
      "text/html": [
       "<div>\n",
       "<style scoped>\n",
       "    .dataframe tbody tr th:only-of-type {\n",
       "        vertical-align: middle;\n",
       "    }\n",
       "\n",
       "    .dataframe tbody tr th {\n",
       "        vertical-align: top;\n",
       "    }\n",
       "\n",
       "    .dataframe thead th {\n",
       "        text-align: right;\n",
       "    }\n",
       "</style>\n",
       "<table border=\"1\" class=\"dataframe\">\n",
       "  <thead>\n",
       "    <tr style=\"text-align: right;\">\n",
       "      <th></th>\n",
       "      <th>male</th>\n",
       "      <th>female</th>\n",
       "    </tr>\n",
       "  </thead>\n",
       "  <tbody>\n",
       "    <tr>\n",
       "      <td>0</td>\n",
       "      <td>1.656082</td>\n",
       "      <td>1.510439</td>\n",
       "    </tr>\n",
       "    <tr>\n",
       "      <td>1</td>\n",
       "      <td>1.537332</td>\n",
       "      <td>1.476693</td>\n",
       "    </tr>\n",
       "    <tr>\n",
       "      <td>2</td>\n",
       "      <td>1.708947</td>\n",
       "      <td>1.693256</td>\n",
       "    </tr>\n",
       "    <tr>\n",
       "      <td>3</td>\n",
       "      <td>1.633918</td>\n",
       "      <td>1.432801</td>\n",
       "    </tr>\n",
       "    <tr>\n",
       "      <td>4</td>\n",
       "      <td>1.793628</td>\n",
       "      <td>1.614603</td>\n",
       "    </tr>\n",
       "    <tr>\n",
       "      <td>5</td>\n",
       "      <td>1.801304</td>\n",
       "      <td>1.817772</td>\n",
       "    </tr>\n",
       "    <tr>\n",
       "      <td>6</td>\n",
       "      <td>1.683878</td>\n",
       "      <td>1.687143</td>\n",
       "    </tr>\n",
       "    <tr>\n",
       "      <td>7</td>\n",
       "      <td>1.785184</td>\n",
       "      <td>1.540909</td>\n",
       "    </tr>\n",
       "    <tr>\n",
       "      <td>8</td>\n",
       "      <td>1.713735</td>\n",
       "      <td>1.598016</td>\n",
       "    </tr>\n",
       "    <tr>\n",
       "      <td>9</td>\n",
       "      <td>1.734363</td>\n",
       "      <td>1.687506</td>\n",
       "    </tr>\n",
       "    <tr>\n",
       "      <td>10</td>\n",
       "      <td>1.579937</td>\n",
       "      <td>1.588231</td>\n",
       "    </tr>\n",
       "    <tr>\n",
       "      <td>11</td>\n",
       "      <td>1.798730</td>\n",
       "      <td>1.813292</td>\n",
       "    </tr>\n",
       "    <tr>\n",
       "      <td>12</td>\n",
       "      <td>1.854595</td>\n",
       "      <td>1.500002</td>\n",
       "    </tr>\n",
       "    <tr>\n",
       "      <td>13</td>\n",
       "      <td>1.620093</td>\n",
       "      <td>1.593064</td>\n",
       "    </tr>\n",
       "    <tr>\n",
       "      <td>14</td>\n",
       "      <td>1.570994</td>\n",
       "      <td>1.650969</td>\n",
       "    </tr>\n",
       "    <tr>\n",
       "      <td>15</td>\n",
       "      <td>1.704545</td>\n",
       "      <td>1.512984</td>\n",
       "    </tr>\n",
       "    <tr>\n",
       "      <td>16</td>\n",
       "      <td>1.586368</td>\n",
       "      <td>1.388417</td>\n",
       "    </tr>\n",
       "    <tr>\n",
       "      <td>17</td>\n",
       "      <td>1.767352</td>\n",
       "      <td>1.523728</td>\n",
       "    </tr>\n",
       "    <tr>\n",
       "      <td>18</td>\n",
       "      <td>1.579954</td>\n",
       "      <td>1.647478</td>\n",
       "    </tr>\n",
       "    <tr>\n",
       "      <td>19</td>\n",
       "      <td>1.797568</td>\n",
       "      <td>1.503178</td>\n",
       "    </tr>\n",
       "    <tr>\n",
       "      <td>20</td>\n",
       "      <td>1.780050</td>\n",
       "      <td>1.662205</td>\n",
       "    </tr>\n",
       "    <tr>\n",
       "      <td>21</td>\n",
       "      <td>1.870283</td>\n",
       "      <td>1.762290</td>\n",
       "    </tr>\n",
       "    <tr>\n",
       "      <td>22</td>\n",
       "      <td>1.554818</td>\n",
       "      <td>1.432983</td>\n",
       "    </tr>\n",
       "    <tr>\n",
       "      <td>23</td>\n",
       "      <td>1.529034</td>\n",
       "      <td>1.772319</td>\n",
       "    </tr>\n",
       "    <tr>\n",
       "      <td>24</td>\n",
       "      <td>1.734530</td>\n",
       "      <td>1.664072</td>\n",
       "    </tr>\n",
       "    <tr>\n",
       "      <td>25</td>\n",
       "      <td>1.799665</td>\n",
       "      <td>1.570427</td>\n",
       "    </tr>\n",
       "    <tr>\n",
       "      <td>26</td>\n",
       "      <td>1.731553</td>\n",
       "      <td>1.648041</td>\n",
       "    </tr>\n",
       "    <tr>\n",
       "      <td>27</td>\n",
       "      <td>1.655283</td>\n",
       "      <td>1.556612</td>\n",
       "    </tr>\n",
       "    <tr>\n",
       "      <td>28</td>\n",
       "      <td>1.697714</td>\n",
       "      <td>1.710350</td>\n",
       "    </tr>\n",
       "    <tr>\n",
       "      <td>29</td>\n",
       "      <td>1.665175</td>\n",
       "      <td>1.591190</td>\n",
       "    </tr>\n",
       "  </tbody>\n",
       "</table>\n",
       "</div>"
      ],
      "text/plain": [
       "        male    female\n",
       "0   1.656082  1.510439\n",
       "1   1.537332  1.476693\n",
       "2   1.708947  1.693256\n",
       "3   1.633918  1.432801\n",
       "4   1.793628  1.614603\n",
       "5   1.801304  1.817772\n",
       "6   1.683878  1.687143\n",
       "7   1.785184  1.540909\n",
       "8   1.713735  1.598016\n",
       "9   1.734363  1.687506\n",
       "10  1.579937  1.588231\n",
       "11  1.798730  1.813292\n",
       "12  1.854595  1.500002\n",
       "13  1.620093  1.593064\n",
       "14  1.570994  1.650969\n",
       "15  1.704545  1.512984\n",
       "16  1.586368  1.388417\n",
       "17  1.767352  1.523728\n",
       "18  1.579954  1.647478\n",
       "19  1.797568  1.503178\n",
       "20  1.780050  1.662205\n",
       "21  1.870283  1.762290\n",
       "22  1.554818  1.432983\n",
       "23  1.529034  1.772319\n",
       "24  1.734530  1.664072\n",
       "25  1.799665  1.570427\n",
       "26  1.731553  1.648041\n",
       "27  1.655283  1.556612\n",
       "28  1.697714  1.710350\n",
       "29  1.665175  1.591190"
      ]
     },
     "execution_count": 19,
     "metadata": {},
     "output_type": "execute_result"
    }
   ],
   "source": [
    "df"
   ]
  },
  {
   "cell_type": "code",
   "execution_count": 20,
   "metadata": {},
   "outputs": [
    {
     "data": {
      "text/plain": [
       "Ttest_indResult(statistic=3.4195352674685178, pvalue=0.001154202030644732)"
      ]
     },
     "execution_count": 20,
     "metadata": {},
     "output_type": "execute_result"
    }
   ],
   "source": [
    "ss.ttest_ind(df['male'], df['female'])"
   ]
  },
  {
   "cell_type": "code",
   "execution_count": 21,
   "metadata": {
    "scrolled": true
   },
   "outputs": [],
   "source": [
    "gender = ['male'] * 30 + ['female'] * 30"
   ]
  },
  {
   "cell_type": "code",
   "execution_count": 22,
   "metadata": {},
   "outputs": [],
   "source": [
    "height = np.concatenate([m, f])"
   ]
  },
  {
   "cell_type": "code",
   "execution_count": 23,
   "metadata": {},
   "outputs": [],
   "source": [
    "df = pd.DataFrame({'gender': gender, 'height': height})"
   ]
  },
  {
   "cell_type": "code",
   "execution_count": 24,
   "metadata": {
    "scrolled": true
   },
   "outputs": [
    {
     "data": {
      "text/html": [
       "<div>\n",
       "<style scoped>\n",
       "    .dataframe tbody tr th:only-of-type {\n",
       "        vertical-align: middle;\n",
       "    }\n",
       "\n",
       "    .dataframe tbody tr th {\n",
       "        vertical-align: top;\n",
       "    }\n",
       "\n",
       "    .dataframe thead th {\n",
       "        text-align: right;\n",
       "    }\n",
       "</style>\n",
       "<table border=\"1\" class=\"dataframe\">\n",
       "  <thead>\n",
       "    <tr style=\"text-align: right;\">\n",
       "      <th></th>\n",
       "      <th>gender</th>\n",
       "      <th>height</th>\n",
       "    </tr>\n",
       "  </thead>\n",
       "  <tbody>\n",
       "    <tr>\n",
       "      <td>0</td>\n",
       "      <td>male</td>\n",
       "      <td>1.656082</td>\n",
       "    </tr>\n",
       "    <tr>\n",
       "      <td>1</td>\n",
       "      <td>male</td>\n",
       "      <td>1.537332</td>\n",
       "    </tr>\n",
       "    <tr>\n",
       "      <td>2</td>\n",
       "      <td>male</td>\n",
       "      <td>1.708947</td>\n",
       "    </tr>\n",
       "    <tr>\n",
       "      <td>3</td>\n",
       "      <td>male</td>\n",
       "      <td>1.633918</td>\n",
       "    </tr>\n",
       "    <tr>\n",
       "      <td>4</td>\n",
       "      <td>male</td>\n",
       "      <td>1.793628</td>\n",
       "    </tr>\n",
       "    <tr>\n",
       "      <td>5</td>\n",
       "      <td>male</td>\n",
       "      <td>1.801304</td>\n",
       "    </tr>\n",
       "    <tr>\n",
       "      <td>6</td>\n",
       "      <td>male</td>\n",
       "      <td>1.683878</td>\n",
       "    </tr>\n",
       "    <tr>\n",
       "      <td>7</td>\n",
       "      <td>male</td>\n",
       "      <td>1.785184</td>\n",
       "    </tr>\n",
       "    <tr>\n",
       "      <td>8</td>\n",
       "      <td>male</td>\n",
       "      <td>1.713735</td>\n",
       "    </tr>\n",
       "    <tr>\n",
       "      <td>9</td>\n",
       "      <td>male</td>\n",
       "      <td>1.734363</td>\n",
       "    </tr>\n",
       "    <tr>\n",
       "      <td>10</td>\n",
       "      <td>male</td>\n",
       "      <td>1.579937</td>\n",
       "    </tr>\n",
       "    <tr>\n",
       "      <td>11</td>\n",
       "      <td>male</td>\n",
       "      <td>1.798730</td>\n",
       "    </tr>\n",
       "    <tr>\n",
       "      <td>12</td>\n",
       "      <td>male</td>\n",
       "      <td>1.854595</td>\n",
       "    </tr>\n",
       "    <tr>\n",
       "      <td>13</td>\n",
       "      <td>male</td>\n",
       "      <td>1.620093</td>\n",
       "    </tr>\n",
       "    <tr>\n",
       "      <td>14</td>\n",
       "      <td>male</td>\n",
       "      <td>1.570994</td>\n",
       "    </tr>\n",
       "    <tr>\n",
       "      <td>15</td>\n",
       "      <td>male</td>\n",
       "      <td>1.704545</td>\n",
       "    </tr>\n",
       "    <tr>\n",
       "      <td>16</td>\n",
       "      <td>male</td>\n",
       "      <td>1.586368</td>\n",
       "    </tr>\n",
       "    <tr>\n",
       "      <td>17</td>\n",
       "      <td>male</td>\n",
       "      <td>1.767352</td>\n",
       "    </tr>\n",
       "    <tr>\n",
       "      <td>18</td>\n",
       "      <td>male</td>\n",
       "      <td>1.579954</td>\n",
       "    </tr>\n",
       "    <tr>\n",
       "      <td>19</td>\n",
       "      <td>male</td>\n",
       "      <td>1.797568</td>\n",
       "    </tr>\n",
       "    <tr>\n",
       "      <td>20</td>\n",
       "      <td>male</td>\n",
       "      <td>1.780050</td>\n",
       "    </tr>\n",
       "    <tr>\n",
       "      <td>21</td>\n",
       "      <td>male</td>\n",
       "      <td>1.870283</td>\n",
       "    </tr>\n",
       "    <tr>\n",
       "      <td>22</td>\n",
       "      <td>male</td>\n",
       "      <td>1.554818</td>\n",
       "    </tr>\n",
       "    <tr>\n",
       "      <td>23</td>\n",
       "      <td>male</td>\n",
       "      <td>1.529034</td>\n",
       "    </tr>\n",
       "    <tr>\n",
       "      <td>24</td>\n",
       "      <td>male</td>\n",
       "      <td>1.734530</td>\n",
       "    </tr>\n",
       "    <tr>\n",
       "      <td>25</td>\n",
       "      <td>male</td>\n",
       "      <td>1.799665</td>\n",
       "    </tr>\n",
       "    <tr>\n",
       "      <td>26</td>\n",
       "      <td>male</td>\n",
       "      <td>1.731553</td>\n",
       "    </tr>\n",
       "    <tr>\n",
       "      <td>27</td>\n",
       "      <td>male</td>\n",
       "      <td>1.655283</td>\n",
       "    </tr>\n",
       "    <tr>\n",
       "      <td>28</td>\n",
       "      <td>male</td>\n",
       "      <td>1.697714</td>\n",
       "    </tr>\n",
       "    <tr>\n",
       "      <td>29</td>\n",
       "      <td>male</td>\n",
       "      <td>1.665175</td>\n",
       "    </tr>\n",
       "    <tr>\n",
       "      <td>30</td>\n",
       "      <td>female</td>\n",
       "      <td>1.510439</td>\n",
       "    </tr>\n",
       "    <tr>\n",
       "      <td>31</td>\n",
       "      <td>female</td>\n",
       "      <td>1.476693</td>\n",
       "    </tr>\n",
       "    <tr>\n",
       "      <td>32</td>\n",
       "      <td>female</td>\n",
       "      <td>1.693256</td>\n",
       "    </tr>\n",
       "    <tr>\n",
       "      <td>33</td>\n",
       "      <td>female</td>\n",
       "      <td>1.432801</td>\n",
       "    </tr>\n",
       "    <tr>\n",
       "      <td>34</td>\n",
       "      <td>female</td>\n",
       "      <td>1.614603</td>\n",
       "    </tr>\n",
       "    <tr>\n",
       "      <td>35</td>\n",
       "      <td>female</td>\n",
       "      <td>1.817772</td>\n",
       "    </tr>\n",
       "    <tr>\n",
       "      <td>36</td>\n",
       "      <td>female</td>\n",
       "      <td>1.687143</td>\n",
       "    </tr>\n",
       "    <tr>\n",
       "      <td>37</td>\n",
       "      <td>female</td>\n",
       "      <td>1.540909</td>\n",
       "    </tr>\n",
       "    <tr>\n",
       "      <td>38</td>\n",
       "      <td>female</td>\n",
       "      <td>1.598016</td>\n",
       "    </tr>\n",
       "    <tr>\n",
       "      <td>39</td>\n",
       "      <td>female</td>\n",
       "      <td>1.687506</td>\n",
       "    </tr>\n",
       "    <tr>\n",
       "      <td>40</td>\n",
       "      <td>female</td>\n",
       "      <td>1.588231</td>\n",
       "    </tr>\n",
       "    <tr>\n",
       "      <td>41</td>\n",
       "      <td>female</td>\n",
       "      <td>1.813292</td>\n",
       "    </tr>\n",
       "    <tr>\n",
       "      <td>42</td>\n",
       "      <td>female</td>\n",
       "      <td>1.500002</td>\n",
       "    </tr>\n",
       "    <tr>\n",
       "      <td>43</td>\n",
       "      <td>female</td>\n",
       "      <td>1.593064</td>\n",
       "    </tr>\n",
       "    <tr>\n",
       "      <td>44</td>\n",
       "      <td>female</td>\n",
       "      <td>1.650969</td>\n",
       "    </tr>\n",
       "    <tr>\n",
       "      <td>45</td>\n",
       "      <td>female</td>\n",
       "      <td>1.512984</td>\n",
       "    </tr>\n",
       "    <tr>\n",
       "      <td>46</td>\n",
       "      <td>female</td>\n",
       "      <td>1.388417</td>\n",
       "    </tr>\n",
       "    <tr>\n",
       "      <td>47</td>\n",
       "      <td>female</td>\n",
       "      <td>1.523728</td>\n",
       "    </tr>\n",
       "    <tr>\n",
       "      <td>48</td>\n",
       "      <td>female</td>\n",
       "      <td>1.647478</td>\n",
       "    </tr>\n",
       "    <tr>\n",
       "      <td>49</td>\n",
       "      <td>female</td>\n",
       "      <td>1.503178</td>\n",
       "    </tr>\n",
       "    <tr>\n",
       "      <td>50</td>\n",
       "      <td>female</td>\n",
       "      <td>1.662205</td>\n",
       "    </tr>\n",
       "    <tr>\n",
       "      <td>51</td>\n",
       "      <td>female</td>\n",
       "      <td>1.762290</td>\n",
       "    </tr>\n",
       "    <tr>\n",
       "      <td>52</td>\n",
       "      <td>female</td>\n",
       "      <td>1.432983</td>\n",
       "    </tr>\n",
       "    <tr>\n",
       "      <td>53</td>\n",
       "      <td>female</td>\n",
       "      <td>1.772319</td>\n",
       "    </tr>\n",
       "    <tr>\n",
       "      <td>54</td>\n",
       "      <td>female</td>\n",
       "      <td>1.664072</td>\n",
       "    </tr>\n",
       "    <tr>\n",
       "      <td>55</td>\n",
       "      <td>female</td>\n",
       "      <td>1.570427</td>\n",
       "    </tr>\n",
       "    <tr>\n",
       "      <td>56</td>\n",
       "      <td>female</td>\n",
       "      <td>1.648041</td>\n",
       "    </tr>\n",
       "    <tr>\n",
       "      <td>57</td>\n",
       "      <td>female</td>\n",
       "      <td>1.556612</td>\n",
       "    </tr>\n",
       "    <tr>\n",
       "      <td>58</td>\n",
       "      <td>female</td>\n",
       "      <td>1.710350</td>\n",
       "    </tr>\n",
       "    <tr>\n",
       "      <td>59</td>\n",
       "      <td>female</td>\n",
       "      <td>1.591190</td>\n",
       "    </tr>\n",
       "  </tbody>\n",
       "</table>\n",
       "</div>"
      ],
      "text/plain": [
       "    gender    height\n",
       "0     male  1.656082\n",
       "1     male  1.537332\n",
       "2     male  1.708947\n",
       "3     male  1.633918\n",
       "4     male  1.793628\n",
       "5     male  1.801304\n",
       "6     male  1.683878\n",
       "7     male  1.785184\n",
       "8     male  1.713735\n",
       "9     male  1.734363\n",
       "10    male  1.579937\n",
       "11    male  1.798730\n",
       "12    male  1.854595\n",
       "13    male  1.620093\n",
       "14    male  1.570994\n",
       "15    male  1.704545\n",
       "16    male  1.586368\n",
       "17    male  1.767352\n",
       "18    male  1.579954\n",
       "19    male  1.797568\n",
       "20    male  1.780050\n",
       "21    male  1.870283\n",
       "22    male  1.554818\n",
       "23    male  1.529034\n",
       "24    male  1.734530\n",
       "25    male  1.799665\n",
       "26    male  1.731553\n",
       "27    male  1.655283\n",
       "28    male  1.697714\n",
       "29    male  1.665175\n",
       "30  female  1.510439\n",
       "31  female  1.476693\n",
       "32  female  1.693256\n",
       "33  female  1.432801\n",
       "34  female  1.614603\n",
       "35  female  1.817772\n",
       "36  female  1.687143\n",
       "37  female  1.540909\n",
       "38  female  1.598016\n",
       "39  female  1.687506\n",
       "40  female  1.588231\n",
       "41  female  1.813292\n",
       "42  female  1.500002\n",
       "43  female  1.593064\n",
       "44  female  1.650969\n",
       "45  female  1.512984\n",
       "46  female  1.388417\n",
       "47  female  1.523728\n",
       "48  female  1.647478\n",
       "49  female  1.503178\n",
       "50  female  1.662205\n",
       "51  female  1.762290\n",
       "52  female  1.432983\n",
       "53  female  1.772319\n",
       "54  female  1.664072\n",
       "55  female  1.570427\n",
       "56  female  1.648041\n",
       "57  female  1.556612\n",
       "58  female  1.710350\n",
       "59  female  1.591190"
      ]
     },
     "execution_count": 24,
     "metadata": {},
     "output_type": "execute_result"
    }
   ],
   "source": [
    "df"
   ]
  },
  {
   "cell_type": "code",
   "execution_count": 25,
   "metadata": {
    "scrolled": false
   },
   "outputs": [
    {
     "data": {
      "text/plain": [
       "0     1.656082\n",
       "1     1.537332\n",
       "2     1.708947\n",
       "3     1.633918\n",
       "4     1.793628\n",
       "5     1.801304\n",
       "6     1.683878\n",
       "7     1.785184\n",
       "8     1.713735\n",
       "9     1.734363\n",
       "10    1.579937\n",
       "11    1.798730\n",
       "12    1.854595\n",
       "13    1.620093\n",
       "14    1.570994\n",
       "15    1.704545\n",
       "16    1.586368\n",
       "17    1.767352\n",
       "18    1.579954\n",
       "19    1.797568\n",
       "20    1.780050\n",
       "21    1.870283\n",
       "22    1.554818\n",
       "23    1.529034\n",
       "24    1.734530\n",
       "25    1.799665\n",
       "26    1.731553\n",
       "27    1.655283\n",
       "28    1.697714\n",
       "29    1.665175\n",
       "Name: height, dtype: float64"
      ]
     },
     "execution_count": 25,
     "metadata": {},
     "output_type": "execute_result"
    }
   ],
   "source": [
    "df[df['gender'] == 'male']['height']"
   ]
  },
  {
   "cell_type": "code",
   "execution_count": 26,
   "metadata": {
    "scrolled": true
   },
   "outputs": [
    {
     "data": {
      "text/plain": [
       "30    1.510439\n",
       "31    1.476693\n",
       "32    1.693256\n",
       "33    1.432801\n",
       "34    1.614603\n",
       "35    1.817772\n",
       "36    1.687143\n",
       "37    1.540909\n",
       "38    1.598016\n",
       "39    1.687506\n",
       "40    1.588231\n",
       "41    1.813292\n",
       "42    1.500002\n",
       "43    1.593064\n",
       "44    1.650969\n",
       "45    1.512984\n",
       "46    1.388417\n",
       "47    1.523728\n",
       "48    1.647478\n",
       "49    1.503178\n",
       "50    1.662205\n",
       "51    1.762290\n",
       "52    1.432983\n",
       "53    1.772319\n",
       "54    1.664072\n",
       "55    1.570427\n",
       "56    1.648041\n",
       "57    1.556612\n",
       "58    1.710350\n",
       "59    1.591190\n",
       "Name: height, dtype: float64"
      ]
     },
     "execution_count": 26,
     "metadata": {},
     "output_type": "execute_result"
    }
   ],
   "source": [
    "df[df['gender'] == 'female']['height']"
   ]
  },
  {
   "cell_type": "code",
   "execution_count": 27,
   "metadata": {},
   "outputs": [
    {
     "data": {
      "text/plain": [
       "(3.4195352674685187, 0.0011542020306447302, 58.0)"
      ]
     },
     "execution_count": 27,
     "metadata": {},
     "output_type": "execute_result"
    }
   ],
   "source": [
    "ws.ttest_ind(df[df['gender'] == 'male']['height'], df[df['gender'] == 'female']['height'])"
   ]
  },
  {
   "cell_type": "code",
   "execution_count": 28,
   "metadata": {},
   "outputs": [
    {
     "data": {
      "text/plain": [
       "<seaborn.axisgrid.FacetGrid at 0x2cd382e2240>"
      ]
     },
     "execution_count": 28,
     "metadata": {},
     "output_type": "execute_result"
    },
    {
     "data": {
      "image/png": "[encoded data removed]",
      "text/plain": [
       "<Figure size 360x360 with 1 Axes>"
      ]
     },
     "metadata": {
      "needs_background": "light"
     },
     "output_type": "display_data"
    }
   ],
   "source": [
    "sns.catplot(x='gender', y='height', jitter=True, data=df)"
   ]
  }
 ],
 "metadata": {
  "kernelspec": {
   "display_name": "Python 3",
   "language": "python",
   "name": "python3"
  },
  "language_info": {
   "codemirror_mode": {
    "name": "ipython",
    "version": 3
   },
   "file_extension": ".py",
   "mimetype": "text/x-python",
   "name": "python",
   "nbconvert_exporter": "python",
   "pygments_lexer": "ipython3",
   "version": "3.7.3"
  }
 },
 "nbformat": 4,
 "nbformat_minor": 2
}
